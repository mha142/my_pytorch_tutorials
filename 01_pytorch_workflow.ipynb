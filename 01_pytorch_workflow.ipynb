{
  "nbformat": 4,
  "nbformat_minor": 0,
  "metadata": {
    "colab": {
      "provenance": [],
      "toc_visible": true,
      "authorship_tag": "ABX9TyNKsde4LpgkKMSkh3sYf7bR",
      "include_colab_link": true
    },
    "kernelspec": {
      "name": "python3",
      "display_name": "Python 3"
    },
    "language_info": {
      "name": "python"
    }
  },
  "cells": [
    {
      "cell_type": "markdown",
      "metadata": {
        "id": "view-in-github",
        "colab_type": "text"
      },
      "source": [
        "<a href=\"https://colab.research.google.com/github/mha142/my_pytorch_tutorials/blob/main/01_pytorch_workflow.ipynb\" target=\"_parent\"><img src=\"https://colab.research.google.com/assets/colab-badge.svg\" alt=\"Open In Colab\"/></a>"
      ]
    },
    {
      "cell_type": "markdown",
      "source": [
        "# Resource: https://www.learnpytorch.io/01_pytorch_workflow/"
      ],
      "metadata": {
        "id": "_rzYpnraf2_3"
      }
    },
    {
      "cell_type": "code",
      "execution_count": 4,
      "metadata": {
        "colab": {
          "base_uri": "https://localhost:8080/"
        },
        "id": "FsSs0cPE7HCj",
        "outputId": "3da7c486-3b2f-4160-d9ad-e77216cb8a87"
      },
      "outputs": [
        {
          "output_type": "stream",
          "name": "stdout",
          "text": [
            "2.6.0+cu124\n",
            "False\n"
          ]
        }
      ],
      "source": [
        "import torch\n",
        "from torch import nn # nn contains all the building blocks for neural networks\n",
        "import matplotlib.pyplot as plt\n",
        "\n",
        "print(torch.__version__)\n",
        "print(torch.cuda.is_available())"
      ]
    },
    {
      "cell_type": "markdown",
      "source": [
        "## 1. Data preparing and loading\n",
        "\n",
        "Data can be any thing:\n",
        "* text\n",
        "* excel spreadsheet\n",
        "* audio\n",
        "* images\n",
        "* videos\n",
        "* DNA\n",
        "\n",
        "Machine learning is a game of two parts:\n",
        "1. turn data into numbers\n",
        "2. build or use a model to learn patterns in those numbers"
      ],
      "metadata": {
        "id": "SN3a72wM-dAW"
      }
    },
    {
      "cell_type": "code",
      "source": [
        "#create \"known\" parameters\n",
        "# usually we don't know the parameters and we let machine learning figure out the relationship between the input X and the output y\n",
        "weight = 0.7\n",
        "bias = 0.3\n",
        "\n",
        "start = 0\n",
        "end = 1\n",
        "step = 0.02\n",
        "X = torch.arange(start, end, step).unsqueeze(dim=1) # X is capital beacuase it represnets a matrix or a tensor\n",
        "y = weight * X + bias # y is small because it represents a vector, but later maybe in another code it might represent a matrix or a tensor and then we will use capital Y\n",
        "\n",
        "#show the first 10 elements of X and y\n",
        "print(X[:10])\n",
        "print(y[:10])"
      ],
      "metadata": {
        "colab": {
          "base_uri": "https://localhost:8080/"
        },
        "id": "NCdnqRRe89fP",
        "outputId": "d2869577-1364-46ee-9355-bcd44a3e6767"
      },
      "execution_count": 5,
      "outputs": [
        {
          "output_type": "stream",
          "name": "stdout",
          "text": [
            "tensor([[0.0000],\n",
            "        [0.0200],\n",
            "        [0.0400],\n",
            "        [0.0600],\n",
            "        [0.0800],\n",
            "        [0.1000],\n",
            "        [0.1200],\n",
            "        [0.1400],\n",
            "        [0.1600],\n",
            "        [0.1800]])\n",
            "tensor([[0.3000],\n",
            "        [0.3140],\n",
            "        [0.3280],\n",
            "        [0.3420],\n",
            "        [0.3560],\n",
            "        [0.3700],\n",
            "        [0.3840],\n",
            "        [0.3980],\n",
            "        [0.4120],\n",
            "        [0.4260]])\n"
          ]
        }
      ]
    },
    {
      "cell_type": "markdown",
      "source": [
        "##splitting data into training and testing **very important**"
      ],
      "metadata": {
        "id": "9Usm50zJCVuq"
      }
    },
    {
      "cell_type": "code",
      "source": [
        "train_split = int(0.8 * len(X)) #80 % of the length of X\n",
        "X_train, y_train = X[:train_split], y[:train_split]# :train_split -> means from the beginning up until the train split\n",
        "X_test, y_test = X[train_split:], y[train_split:] # train_split: -> from the train split to the end of the data\n",
        "\n",
        "len(X_train), len(y_train), len(X_test), len(y_test)"
      ],
      "metadata": {
        "colab": {
          "base_uri": "https://localhost:8080/"
        },
        "id": "AL-xwhT1AuBh",
        "outputId": "947a2519-41ca-402b-b0a1-f996407d5936"
      },
      "execution_count": 6,
      "outputs": [
        {
          "output_type": "execute_result",
          "data": {
            "text/plain": [
              "(40, 40, 10, 10)"
            ]
          },
          "metadata": {},
          "execution_count": 6
        }
      ]
    },
    {
      "cell_type": "code",
      "source": [
        "def plot_predictions(train_data=X_train,\n",
        "                      train_labels=y_train,\n",
        "                      test_data=X_test,\n",
        "                      test_labels=y_test,\n",
        "                      predictions=None):\n",
        "  \"\"\"\n",
        "  plots training data, test data and compares predictions\n",
        "  \"\"\"\n",
        "  plt.figure(figsize=(10,7))\n",
        "\n",
        "  plt.scatter(train_data, train_labels, c=\"b\", s=4, label=\"training data\")\n",
        "  plt.scatter(test_data, test_labels, c=\"g\", s=4, label=\"testing data\")\n",
        "\n",
        "  #are there any predictions?\n",
        "  if predictions is not None:\n",
        "    #plot predictions if they exist\n",
        "    plt.scatter(test_data, predictions, c=\"r\", s=4, label=\"predictions\") # to know how good the model is we compare the predictions to y_test (which is the test set)\n",
        "\n",
        "  plt.legend(prop={\"size\":14})"
      ],
      "metadata": {
        "id": "JdxDLlnjD1TY"
      },
      "execution_count": 7,
      "outputs": []
    },
    {
      "cell_type": "code",
      "source": [
        "plot_predictions()"
      ],
      "metadata": {
        "colab": {
          "base_uri": "https://localhost:8080/",
          "height": 620
        },
        "id": "_Prp1HoTF9LT",
        "outputId": "3a7383ef-bb55-4fb6-8b7e-7fdae526dd51"
      },
      "execution_count": 8,
      "outputs": [
        {
          "output_type": "display_data",
          "data": {
            "text/plain": [
              "<Figure size 1000x700 with 1 Axes>"
            ],
            "image/png": "[encoded data removed]"
          },
          "metadata": {}
        }
      ]
    },
    {
      "cell_type": "markdown",
      "source": [
        "## 2. Build the model\n",
        "\n",
        "A resource to learn more about classes:\n",
        "https://realpython.com/python3-object-oriented-programming/"
      ],
      "metadata": {
        "id": "fG084NGlG8Y1"
      }
    },
    {
      "cell_type": "code",
      "source": [
        "# Create a linear regression model class\n",
        "class LinearRegressionModel(nn.Module): # the class LinearRegressionModel inherits from nn.Module, so nn.Module is a subclass\n",
        "  #create a construtor\n",
        "  def __init__(self):\n",
        "    super().__init__()\n",
        "    #weights and bias will start with random numbers then will go through the forward function that looks at the training data and adjusts the weights and bias and it will try to be close as possible to the \"known\" parameters that we already used to create the data, w= 0.7 and b= 0.3 through an algorithm called gradient decent & backpropagation\n",
        "    self.weights = nn.Parameter(torch.randn(1,\n",
        "                                            requires_grad=True,\n",
        "                                            dtype=torch.float))\n",
        "    self.bias = nn.Parameter(torch.randn(1,\n",
        "                                         requires_grad=True,\n",
        "                                         dtype=torch.float))\n",
        "  #shift + tab to make this function indentation alines with the intructor\n",
        "  #create the forward method to define the computation in the model\n",
        "  def forward(self, x: torch.Tensor) -> torch.Tensor: #x is the nput data(aka training data), (x: torch.Tensor) means that the data type of x is torch.tensor, and the function returns torch.tensor\n",
        "    return self.weights * x + self.bias # the linear regression formula"
      ],
      "metadata": {
        "id": "UIBMFtcuGFoB"
      },
      "execution_count": 9,
      "outputs": []
    },
    {
      "cell_type": "markdown",
      "source": [
        "### Check the contents of our Pytorch model"
      ],
      "metadata": {
        "id": "8zW8tza8PHWt"
      }
    },
    {
      "cell_type": "code",
      "source": [
        "#run this multiple times to see how the random number changes\n",
        "print(torch.randn(1))\n"
      ],
      "metadata": {
        "colab": {
          "base_uri": "https://localhost:8080/"
        },
        "id": "WmJmvjLsTNst",
        "outputId": "a84fd39e-0378-467e-ac49-0ed1c1718132"
      },
      "execution_count": 10,
      "outputs": [
        {
          "output_type": "stream",
          "name": "stdout",
          "text": [
            "tensor([1.9342])\n"
          ]
        }
      ]
    },
    {
      "cell_type": "code",
      "source": [
        "#the random number is now fixed because of the seed\n",
        "torch.manual_seed(42)\n",
        "print(torch.randn(1))"
      ],
      "metadata": {
        "colab": {
          "base_uri": "https://localhost:8080/"
        },
        "id": "RW9sLUMSTkUj",
        "outputId": "7cab7e8d-c907-4f02-c50b-d515ce823011"
      },
      "execution_count": 11,
      "outputs": [
        {
          "output_type": "stream",
          "name": "stdout",
          "text": [
            "tensor([0.3367])\n"
          ]
        }
      ]
    },
    {
      "cell_type": "code",
      "source": [
        "#create a random seed\n",
        "torch.manual_seed(42)\n",
        "\n",
        "#create an instance of the model (aka) call the class\n",
        "model_0 = LinearRegressionModel()\n",
        "\n",
        "#check the model parameters\n",
        "list(model_0.parameters())"
      ],
      "metadata": {
        "colab": {
          "base_uri": "https://localhost:8080/"
        },
        "id": "iRnHlTTGTTm4",
        "outputId": "466e9d89-12e2-4646-9c89-2828e298573c"
      },
      "execution_count": 12,
      "outputs": [
        {
          "output_type": "execute_result",
          "data": {
            "text/plain": [
              "[Parameter containing:\n",
              " tensor([0.3367], requires_grad=True),\n",
              " Parameter containing:\n",
              " tensor([0.1288], requires_grad=True)]"
            ]
          },
          "metadata": {},
          "execution_count": 12
        }
      ]
    },
    {
      "cell_type": "code",
      "source": [
        "# List named parameters\n",
        "model_0.state_dict()"
      ],
      "metadata": {
        "colab": {
          "base_uri": "https://localhost:8080/"
        },
        "id": "F7EgPw6DJquP",
        "outputId": "df3a57c9-8c7d-4ec9-f083-a04a50c13583"
      },
      "execution_count": 13,
      "outputs": [
        {
          "output_type": "execute_result",
          "data": {
            "text/plain": [
              "OrderedDict([('weights', tensor([0.3367])), ('bias', tensor([0.1288]))])"
            ]
          },
          "metadata": {},
          "execution_count": 13
        }
      ]
    },
    {
      "cell_type": "code",
      "source": [
        "# we will train the model to get its paramters values to be as close as possible to the values that we have initialized (our ideal values)\n",
        "\n",
        "weight, bias\n",
        "\n",
        "# in most cases you will not know what are the ideal values, unlike here since we have a simple example"
      ],
      "metadata": {
        "colab": {
          "base_uri": "https://localhost:8080/"
        },
        "id": "fMdH-_9KUU5R",
        "outputId": "ebe5339c-fb6a-49a9-e6be-00d48566f95f"
      },
      "execution_count": 14,
      "outputs": [
        {
          "output_type": "execute_result",
          "data": {
            "text/plain": [
              "(0.7, 0.3)"
            ]
          },
          "metadata": {},
          "execution_count": 14
        }
      ]
    },
    {
      "cell_type": "code",
      "source": [
        "X_test"
      ],
      "metadata": {
        "colab": {
          "base_uri": "https://localhost:8080/"
        },
        "id": "XeOng_laUtBv",
        "outputId": "d57ba833-f684-452d-e514-e12b16d4c1d1"
      },
      "execution_count": 15,
      "outputs": [
        {
          "output_type": "execute_result",
          "data": {
            "text/plain": [
              "tensor([[0.8000],\n",
              "        [0.8200],\n",
              "        [0.8400],\n",
              "        [0.8600],\n",
              "        [0.8800],\n",
              "        [0.9000],\n",
              "        [0.9200],\n",
              "        [0.9400],\n",
              "        [0.9600],\n",
              "        [0.9800]])"
            ]
          },
          "metadata": {},
          "execution_count": 15
        }
      ]
    },
    {
      "cell_type": "code",
      "source": [
        "y_test"
      ],
      "metadata": {
        "colab": {
          "base_uri": "https://localhost:8080/"
        },
        "id": "0bVj1MdSVv4c",
        "outputId": "2c2affb3-3da1-4335-90b6-1d5e35341aba"
      },
      "execution_count": 16,
      "outputs": [
        {
          "output_type": "execute_result",
          "data": {
            "text/plain": [
              "tensor([[0.8600],\n",
              "        [0.8740],\n",
              "        [0.8880],\n",
              "        [0.9020],\n",
              "        [0.9160],\n",
              "        [0.9300],\n",
              "        [0.9440],\n",
              "        [0.9580],\n",
              "        [0.9720],\n",
              "        [0.9860]])"
            ]
          },
          "metadata": {},
          "execution_count": 16
        }
      ]
    },
    {
      "cell_type": "code",
      "source": [
        "# make predictions with the model\n",
        "with torch.inference_mode(): # inference means predictions # with this we don't keep track of the gradients so we get the model to predict the values faster, here you will not find a difference because we have a little data but  this is so important if you have a lot of data\n",
        "  y_preds = model_0(X_test)\n",
        "\n",
        "y_preds"
      ],
      "metadata": {
        "colab": {
          "base_uri": "https://localhost:8080/"
        },
        "id": "Rn0Q9pyKVxM9",
        "outputId": "516c8c2e-becb-4475-ced0-e979252d2e2c"
      },
      "execution_count": 17,
      "outputs": [
        {
          "output_type": "execute_result",
          "data": {
            "text/plain": [
              "tensor([[0.3982],\n",
              "        [0.4049],\n",
              "        [0.4116],\n",
              "        [0.4184],\n",
              "        [0.4251],\n",
              "        [0.4318],\n",
              "        [0.4386],\n",
              "        [0.4453],\n",
              "        [0.4520],\n",
              "        [0.4588]])"
            ]
          },
          "metadata": {},
          "execution_count": 17
        }
      ]
    },
    {
      "cell_type": "code",
      "source": [
        "# you can also do the same thing with the following\n",
        "with torch.no_grad():\n",
        "  y_preds = model_0(X_test)\n",
        "\n",
        "y_preds"
      ],
      "metadata": {
        "colab": {
          "base_uri": "https://localhost:8080/"
        },
        "id": "tQMJS2pNYkBu",
        "outputId": "63d59df8-d15d-4da3-8b14-83e4f1c3c04c"
      },
      "execution_count": 18,
      "outputs": [
        {
          "output_type": "execute_result",
          "data": {
            "text/plain": [
              "tensor([[0.3982],\n",
              "        [0.4049],\n",
              "        [0.4116],\n",
              "        [0.4184],\n",
              "        [0.4251],\n",
              "        [0.4318],\n",
              "        [0.4386],\n",
              "        [0.4453],\n",
              "        [0.4520],\n",
              "        [0.4588]])"
            ]
          },
          "metadata": {},
          "execution_count": 18
        }
      ]
    },
    {
      "cell_type": "code",
      "source": [
        "#plot predictions vs truth\n",
        "plot_predictions(predictions=y_preds) #look how far away the predictied red dots from the ideal green dots"
      ],
      "metadata": {
        "colab": {
          "base_uri": "https://localhost:8080/",
          "height": 620
        },
        "id": "-BgwwyRGWx7x",
        "outputId": "419c30e9-c715-428c-8769-d92267678f76"
      },
      "execution_count": 19,
      "outputs": [
        {
          "output_type": "display_data",
          "data": {
            "text/plain": [
              "<Figure size 1000x700 with 1 Axes>"
            ],
            "image/png": "[encoded data removed]"
          },
          "metadata": {}
        }
      ]
    },
    {
      "cell_type": "markdown",
      "source": [
        "##we need to train the model to move the red dots to be close to the green dots"
      ],
      "metadata": {
        "id": "vlRgqrTGaygi"
      }
    },
    {
      "cell_type": "markdown",
      "source": [
        "## loss function = cost function = criterion\n",
        "\n",
        "* the loss function measures how wrong your predictions are to the ideal output, the lower the better (lower is better)\n",
        "\n",
        "\n",
        "* to measure how far away the prediction is we need to find the squared distance between the predicted point and the ground truth (original) point\n",
        "\n",
        "* the squared distance = aka. squared L2 norm = aka. **Mean Squared Error** (MSE)\n",
        "\n",
        "* use the squared distance (sum of squared differences) instead of the raw Euclidean distance (with square root) because The square root is non-linear and makes calculus (like taking gradients) more complicated\n",
        "\n",
        "* review how to calculate the Euclidean distance:  https://www.youtube.com/watch?v=dMc_PZ1Md90\n",
        "\n",
        "* the optimizer adjusts the model parameters (weight and bias) to improve/lower the loss function\n",
        "\n",
        "* pytorch loss functions: https://docs.pytorch.org/docs/stable/nn.html#loss-functions\n",
        "* use nn.BCELoss for biary classification problem\n",
        "\n",
        "* pytorch optimizers: https://docs.pytorch.org/docs/stable/optim.html\n",
        "\n",
        "* the first minute of this video gives a real life example of what is gradient decent: https://www.youtube.com/watch?v=i62czvwDlsw\n",
        "\n"
      ],
      "metadata": {
        "id": "6IsutN_za4Qh"
      }
    },
    {
      "cell_type": "code",
      "source": [
        "loss_fn = nn.L1Loss() # MAE = mean absolute error\n",
        "\n",
        "optimizer = torch.optim.SGD(params=model_0.parameters(),\n",
        "                            lr=0.01) # stochastic gradient descent\n",
        "                            #lr = learning rate (most important hyperparameter)"
      ],
      "metadata": {
        "id": "ANteodtLYVjY"
      },
      "execution_count": 20,
      "outputs": []
    },
    {
      "cell_type": "code",
      "source": [
        "model_0.state_dict()"
      ],
      "metadata": {
        "colab": {
          "base_uri": "https://localhost:8080/"
        },
        "id": "uirqyrlHjfmb",
        "outputId": "831156e3-71fb-43d7-a985-01d2c65941af"
      },
      "execution_count": 21,
      "outputs": [
        {
          "output_type": "execute_result",
          "data": {
            "text/plain": [
              "OrderedDict([('weights', tensor([0.3367])), ('bias', tensor([0.1288]))])"
            ]
          },
          "metadata": {},
          "execution_count": 21
        }
      ]
    },
    {
      "cell_type": "markdown",
      "source": [
        "* small learning rate means it will change only a small value (aka. it will take a small step)\n",
        "* big learning rate means it will change a big value (aka. it will take a big step)\n",
        "\n",
        "model_0.state_dict() ------output-----> OrderedDict([('weights', tensor([0.3367])), ('bias', tensor([0.1288]))])\n",
        "\n",
        "so if the weights= 0.3367 and\n",
        "* if lr = 0.1 it will change a big value (the bold italic decimal value) 0.***3***\n",
        "* if lr = 0.01 it will change 0.3***3***\n",
        "* if lr = 0.001 it will change 0.33***6***\n",
        "* if lr = 0.0001 it will change a really small value 0.336***7***\n",
        "\n",
        "\n"
      ],
      "metadata": {
        "id": "lZYBAo3QjLdd"
      }
    },
    {
      "cell_type": "markdown",
      "source": [
        "## Training and testing loop song\n",
        "https://www.youtube.com/watch?v=Nutpusq_AFw"
      ],
      "metadata": {
        "id": "fnm3Ql4fotL_"
      }
    },
    {
      "cell_type": "code",
      "source": [
        "# An epoch is one loop through the data (this is a hyperparameter because we set it up ourselves)\n",
        "epochs = 200\n",
        "\n",
        "#Track different vlues\n",
        "epoch_count = []\n",
        "loss_values = []\n",
        "test_loss_values = []\n",
        "\n",
        "#Training\n",
        "# 0. loop through data\n",
        "for epoch in range(epochs):\n",
        "  model_0.train() #put the model in training mode\n",
        "\n",
        "  #1. forward pass (aka forward propagation)\n",
        "  y_pred = model_0(X_train) # the model learns the patterns of the data here at the step, and then evaluate the patterns that it has learned in the testing loop\n",
        "\n",
        "  #2. calculate the loss\n",
        "  loss = loss_fn(y_pred, y_train)\n",
        "\n",
        "  #3. optimizer zero grad\n",
        "  optimizer.zero_grad()\n",
        "\n",
        "  #4. Perform backpropagation on the loss with respect to the model parameters\n",
        "  loss.backward()\n",
        "\n",
        "  #5. Perform gradient decent # pytorch creates a gradient decent curve for each parameter\n",
        "  #this line will update the model parameters and try to get them closer to the ideal data/ ground truth data and makes the loss closer to zero\n",
        "  optimizer.step()# the optimizer channges will accumulage through the loop that is why we need to set the optimizer back to zero in each iteration with optimizer.zero_grad()\n",
        "\n",
        "  # Testing\n",
        "  model_0.eval()# turns off different model settings that we don't need for evaluating and testing (dropout and batch norm layers)\n",
        "\n",
        "  with torch.inference_mode():#turns off gradient tracking\n",
        "  # with torch.no_grad():\n",
        "    #1. forward pass\n",
        "    test_preds = model_0(X_test)\n",
        "\n",
        "    #2. calculate the loss\n",
        "    test_loss = loss_fn(test_preds, y_test)\n",
        "\n",
        "  #print the loss every 10 epochs\n",
        "  if epoch % 10 == 0:\n",
        "    epoch_count.append(epoch)\n",
        "    loss_values.append(loss)\n",
        "    test_loss_values.append(test_loss)\n",
        "    print(f\"Epoch: {epoch} | Loss: {loss} | Test loss: {test_loss}\")\n",
        "    print(model_0.state_dict())\n",
        "    print('---------------------------------------------------------')\n"
      ],
      "metadata": {
        "colab": {
          "base_uri": "https://localhost:8080/"
        },
        "id": "wmbCIB9uY8dL",
        "outputId": "6b2fb114-3922-4cd6-98c0-ef28c516636b"
      },
      "execution_count": 22,
      "outputs": [
        {
          "output_type": "stream",
          "name": "stdout",
          "text": [
            "Epoch: 0 | Loss: 0.31288138031959534 | Test loss: 0.48106518387794495\n",
            "OrderedDict([('weights', tensor([0.3406])), ('bias', tensor([0.1388]))])\n",
            "---------------------------------------------------------\n",
            "Epoch: 10 | Loss: 0.1976713240146637 | Test loss: 0.3463551998138428\n",
            "OrderedDict([('weights', tensor([0.3796])), ('bias', tensor([0.2388]))])\n",
            "---------------------------------------------------------\n",
            "Epoch: 20 | Loss: 0.08908725529909134 | Test loss: 0.21729660034179688\n",
            "OrderedDict([('weights', tensor([0.4184])), ('bias', tensor([0.3333]))])\n",
            "---------------------------------------------------------\n",
            "Epoch: 30 | Loss: 0.053148526698350906 | Test loss: 0.14464017748832703\n",
            "OrderedDict([('weights', tensor([0.4512])), ('bias', tensor([0.3768]))])\n",
            "---------------------------------------------------------\n",
            "Epoch: 40 | Loss: 0.04543796554207802 | Test loss: 0.11360953003168106\n",
            "OrderedDict([('weights', tensor([0.4748])), ('bias', tensor([0.3868]))])\n",
            "---------------------------------------------------------\n",
            "Epoch: 50 | Loss: 0.04167863354086876 | Test loss: 0.09919948130846024\n",
            "OrderedDict([('weights', tensor([0.4938])), ('bias', tensor([0.3843]))])\n",
            "---------------------------------------------------------\n",
            "Epoch: 60 | Loss: 0.03818932920694351 | Test loss: 0.08886633068323135\n",
            "OrderedDict([('weights', tensor([0.5116])), ('bias', tensor([0.3788]))])\n",
            "---------------------------------------------------------\n",
            "Epoch: 70 | Loss: 0.03476089984178543 | Test loss: 0.0805937647819519\n",
            "OrderedDict([('weights', tensor([0.5288])), ('bias', tensor([0.3718]))])\n",
            "---------------------------------------------------------\n",
            "Epoch: 80 | Loss: 0.03132382780313492 | Test loss: 0.07232122868299484\n",
            "OrderedDict([('weights', tensor([0.5459])), ('bias', tensor([0.3648]))])\n",
            "---------------------------------------------------------\n",
            "Epoch: 90 | Loss: 0.02788739837706089 | Test loss: 0.06473556160926819\n",
            "OrderedDict([('weights', tensor([0.5629])), ('bias', tensor([0.3573]))])\n",
            "---------------------------------------------------------\n",
            "Epoch: 100 | Loss: 0.024458957836031914 | Test loss: 0.05646304413676262\n",
            "OrderedDict([('weights', tensor([0.5800])), ('bias', tensor([0.3503]))])\n",
            "---------------------------------------------------------\n",
            "Epoch: 110 | Loss: 0.021020207554101944 | Test loss: 0.04819049686193466\n",
            "OrderedDict([('weights', tensor([0.5972])), ('bias', tensor([0.3433]))])\n",
            "---------------------------------------------------------\n",
            "Epoch: 120 | Loss: 0.01758546568453312 | Test loss: 0.04060482233762741\n",
            "OrderedDict([('weights', tensor([0.6141])), ('bias', tensor([0.3358]))])\n",
            "---------------------------------------------------------\n",
            "Epoch: 130 | Loss: 0.014155393466353416 | Test loss: 0.03233227878808975\n",
            "OrderedDict([('weights', tensor([0.6313])), ('bias', tensor([0.3288]))])\n",
            "---------------------------------------------------------\n",
            "Epoch: 140 | Loss: 0.010716589167714119 | Test loss: 0.024059748277068138\n",
            "OrderedDict([('weights', tensor([0.6485])), ('bias', tensor([0.3218]))])\n",
            "---------------------------------------------------------\n",
            "Epoch: 150 | Loss: 0.0072835334576666355 | Test loss: 0.016474086791276932\n",
            "OrderedDict([('weights', tensor([0.6654])), ('bias', tensor([0.3143]))])\n",
            "---------------------------------------------------------\n",
            "Epoch: 160 | Loss: 0.0038517764769494534 | Test loss: 0.008201557211577892\n",
            "OrderedDict([('weights', tensor([0.6826])), ('bias', tensor([0.3073]))])\n",
            "---------------------------------------------------------\n",
            "Epoch: 170 | Loss: 0.008932482451200485 | Test loss: 0.005023092031478882\n",
            "OrderedDict([('weights', tensor([0.6951])), ('bias', tensor([0.2993]))])\n",
            "---------------------------------------------------------\n",
            "Epoch: 180 | Loss: 0.008932482451200485 | Test loss: 0.005023092031478882\n",
            "OrderedDict([('weights', tensor([0.6951])), ('bias', tensor([0.2993]))])\n",
            "---------------------------------------------------------\n",
            "Epoch: 190 | Loss: 0.008932482451200485 | Test loss: 0.005023092031478882\n",
            "OrderedDict([('weights', tensor([0.6951])), ('bias', tensor([0.2993]))])\n",
            "---------------------------------------------------------\n"
          ]
        }
      ]
    },
    {
      "cell_type": "code",
      "source": [
        "#plot the loss curves\n",
        "plt.plot(epoch_count, torch.tensor(loss_values).numpy(), label= \"train loss\")\n",
        "plt.plot(epoch_count, torch.tensor(test_loss_values).numpy(), label= \"test loss\")\n",
        "plt.title(\"Training and testing loss curves\")\n",
        "plt.ylabel(\"Loss\")\n",
        "plt.xlabel(\"Epochs\")\n",
        "plt.legend()"
      ],
      "metadata": {
        "colab": {
          "base_uri": "https://localhost:8080/",
          "height": 509
        },
        "id": "tq-Xk8AbLADC",
        "outputId": "372ae27c-ebbd-4f98-d646-e727fc78f151"
      },
      "execution_count": 23,
      "outputs": [
        {
          "output_type": "execute_result",
          "data": {
            "text/plain": [
              "<matplotlib.legend.Legend at 0x7dfb3c4fb710>"
            ]
          },
          "metadata": {},
          "execution_count": 23
        },
        {
          "output_type": "display_data",
          "data": {
            "text/plain": [
              "<Figure size 640x480 with 1 Axes>"
            ],
            "image/png": "[encoded data removed]"
          },
          "metadata": {}
        }
      ]
    },
    {
      "cell_type": "code",
      "source": [
        "plot_predictions(predictions=y_preds)"
      ],
      "metadata": {
        "colab": {
          "base_uri": "https://localhost:8080/",
          "height": 620
        },
        "id": "UNUX6HekI_Tp",
        "outputId": "bca73bf5-cc6b-45a5-ea92-45330f03da66"
      },
      "execution_count": 24,
      "outputs": [
        {
          "output_type": "display_data",
          "data": {
            "text/plain": [
              "<Figure size 1000x700 with 1 Axes>"
            ],
            "image/png": "[encoded data removed]"
          },
          "metadata": {}
        }
      ]
    },
    {
      "cell_type": "code",
      "source": [
        "with torch.inference_mode():\n",
        "  y_preds_new = model_0(X_test)\n",
        "\n",
        "plot_predictions(predictions=y_preds_new)"
      ],
      "metadata": {
        "colab": {
          "base_uri": "https://localhost:8080/",
          "height": 620
        },
        "id": "MImMEFbYaMj_",
        "outputId": "877118c7-2350-4825-bf3c-8e33f9ca8228"
      },
      "execution_count": 25,
      "outputs": [
        {
          "output_type": "display_data",
          "data": {
            "text/plain": [
              "<Figure size 1000x700 with 1 Axes>"
            ],
            "image/png": "[encoded data removed]"
          },
          "metadata": {}
        }
      ]
    },
    {
      "cell_type": "markdown",
      "source": [
        "# Saving a Pytorch model"
      ],
      "metadata": {
        "id": "wkIgO0StOFNp"
      }
    },
    {
      "cell_type": "code",
      "source": [
        "from pathlib import Path\n",
        "\n",
        "# 1. create a model directory # insead of creating a folder manually\n",
        "MODEL_PATH = Path (\"models\")\n",
        "MODEL_PATH.mkdir(parents=True, exist_ok=True)\n",
        "\n",
        "# 2. create model save path\n",
        "MODEL_NAME = \"01_pytorch_workflow_model.pth\"\n",
        "MODEL_SAVE_PATH = MODEL_PATH / MODEL_NAME\n",
        "\n",
        "#3. save the model state dictionary\n",
        "print(f'Saving the model to: {MODEL_SAVE_PATH}')\n",
        "torch.save(obj=model_0.state_dict(),\n",
        "           f=MODEL_SAVE_PATH)\n"
      ],
      "metadata": {
        "id": "gjoxcwQqN7oz",
        "colab": {
          "base_uri": "https://localhost:8080/"
        },
        "outputId": "b21eb158-fbd3-4654-ac27-9eb1f8f7a079"
      },
      "execution_count": 26,
      "outputs": [
        {
          "output_type": "stream",
          "name": "stdout",
          "text": [
            "Saving the model to: models/01_pytorch_workflow_model.pth\n"
          ]
        }
      ]
    },
    {
      "cell_type": "code",
      "source": [
        "#check the files that exsist in the models folder\n",
        "!ls -l models"
      ],
      "metadata": {
        "colab": {
          "base_uri": "https://localhost:8080/"
        },
        "id": "EUm1ffxtQWRy",
        "outputId": "7de9e0fe-49b6-4275-c95f-704de0bb8854"
      },
      "execution_count": 27,
      "outputs": [
        {
          "output_type": "stream",
          "name": "stdout",
          "text": [
            "total 4\n",
            "-rw-r--r-- 1 root root 1668 Jul 31 22:18 01_pytorch_workflow_model.pth\n"
          ]
        }
      ]
    },
    {
      "cell_type": "markdown",
      "source": [
        "#Loading the model"
      ],
      "metadata": {
        "id": "g6J2ryFlSUYg"
      }
    },
    {
      "cell_type": "code",
      "source": [
        "#check the saved model\n",
        "model_0.state_dict()"
      ],
      "metadata": {
        "colab": {
          "base_uri": "https://localhost:8080/"
        },
        "id": "Thu6drHLYtot",
        "outputId": "c832c79a-9b7a-4871-9aa4-b25ce836fd88"
      },
      "execution_count": 28,
      "outputs": [
        {
          "output_type": "execute_result",
          "data": {
            "text/plain": [
              "OrderedDict([('weights', tensor([0.6990])), ('bias', tensor([0.3093]))])"
            ]
          },
          "metadata": {},
          "execution_count": 28
        }
      ]
    },
    {
      "cell_type": "code",
      "source": [
        "#create an instance of our model class\n",
        "loaded_model_0 = LinearRegressionModel()\n",
        "\n",
        "#notice that the parameters values are random and don't match the values in the previous cell\n",
        "loaded_model_0.state_dict()"
      ],
      "metadata": {
        "colab": {
          "base_uri": "https://localhost:8080/"
        },
        "id": "z9bj7Cq3RaRR",
        "outputId": "e3989133-2e72-4a57-c793-1114d2f56838"
      },
      "execution_count": 29,
      "outputs": [
        {
          "output_type": "execute_result",
          "data": {
            "text/plain": [
              "OrderedDict([('weights', tensor([0.2345])), ('bias', tensor([0.2303]))])"
            ]
          },
          "metadata": {},
          "execution_count": 29
        }
      ]
    },
    {
      "cell_type": "code",
      "source": [
        "#load the model()\n",
        "loaded_model_0.load_state_dict(torch.load(f=MODEL_SAVE_PATH))"
      ],
      "metadata": {
        "colab": {
          "base_uri": "https://localhost:8080/"
        },
        "id": "a18NnCJoY-Rm",
        "outputId": "eeb19091-6e30-434a-9089-654b95ac76e9"
      },
      "execution_count": 30,
      "outputs": [
        {
          "output_type": "execute_result",
          "data": {
            "text/plain": [
              "<All keys matched successfully>"
            ]
          },
          "metadata": {},
          "execution_count": 30
        }
      ]
    },
    {
      "cell_type": "code",
      "source": [
        "#now notice how the parameter values of the loaded model are the same as the values of the saved model\n",
        "loaded_model_0.state_dict()"
      ],
      "metadata": {
        "colab": {
          "base_uri": "https://localhost:8080/"
        },
        "id": "wWy4gwRRZVBH",
        "outputId": "e5cea0cc-9331-4d0a-b8f4-24782b6f1eba"
      },
      "execution_count": 31,
      "outputs": [
        {
          "output_type": "execute_result",
          "data": {
            "text/plain": [
              "OrderedDict([('weights', tensor([0.6990])), ('bias', tensor([0.3093]))])"
            ]
          },
          "metadata": {},
          "execution_count": 31
        }
      ]
    },
    {
      "cell_type": "code",
      "source": [
        "# Make some predictions with the loaded model\n",
        "loaded_model_0.eval()\n",
        "with torch.inference_mode():\n",
        "  loaded_model_preds = loaded_model_0(X_test)\n",
        "\n",
        "loaded_model_preds"
      ],
      "metadata": {
        "colab": {
          "base_uri": "https://localhost:8080/"
        },
        "id": "lfGFDpd_ZXiJ",
        "outputId": "b73d41ad-d8b9-4135-9f69-76dc3abbe2ed"
      },
      "execution_count": 32,
      "outputs": [
        {
          "output_type": "execute_result",
          "data": {
            "text/plain": [
              "tensor([[0.8685],\n",
              "        [0.8825],\n",
              "        [0.8965],\n",
              "        [0.9105],\n",
              "        [0.9245],\n",
              "        [0.9384],\n",
              "        [0.9524],\n",
              "        [0.9664],\n",
              "        [0.9804],\n",
              "        [0.9944]])"
            ]
          },
          "metadata": {},
          "execution_count": 32
        }
      ]
    },
    {
      "cell_type": "code",
      "source": [
        "# make some predictions with the original trained model\n",
        "model_0.eval()\n",
        "with torch.inference_mode():\n",
        "  y_preds = model_0(X_test)\n",
        "\n",
        "loaded_model_preds"
      ],
      "metadata": {
        "colab": {
          "base_uri": "https://localhost:8080/"
        },
        "id": "wBczMwrYaP0Y",
        "outputId": "0226cbd9-a67b-4f51-fec5-5eead367c618"
      },
      "execution_count": 33,
      "outputs": [
        {
          "output_type": "execute_result",
          "data": {
            "text/plain": [
              "tensor([[0.8685],\n",
              "        [0.8825],\n",
              "        [0.8965],\n",
              "        [0.9105],\n",
              "        [0.9245],\n",
              "        [0.9384],\n",
              "        [0.9524],\n",
              "        [0.9664],\n",
              "        [0.9804],\n",
              "        [0.9944]])"
            ]
          },
          "metadata": {},
          "execution_count": 33
        }
      ]
    },
    {
      "cell_type": "code",
      "source": [
        "# compare loaded model preds with the orignal model preds\n",
        "loaded_model_preds == y_preds"
      ],
      "metadata": {
        "colab": {
          "base_uri": "https://localhost:8080/"
        },
        "id": "3Wh07F8fZ38n",
        "outputId": "36f78eaf-9624-4fe9-ef9f-a6d79918e3ac"
      },
      "execution_count": 34,
      "outputs": [
        {
          "output_type": "execute_result",
          "data": {
            "text/plain": [
              "tensor([[True],\n",
              "        [True],\n",
              "        [True],\n",
              "        [True],\n",
              "        [True],\n",
              "        [True],\n",
              "        [True],\n",
              "        [True],\n",
              "        [True],\n",
              "        [True]])"
            ]
          },
          "metadata": {},
          "execution_count": 34
        }
      ]
    },
    {
      "cell_type": "markdown",
      "source": [
        "\n",
        "# 6. Putting it all together in one place"
      ],
      "metadata": {
        "id": "laMaJQIrbYuh"
      }
    },
    {
      "cell_type": "code",
      "source": [
        "import torch\n",
        "from torch import nn\n",
        "import matplotlib.pyplot as plt\n",
        "import numpy as np\n",
        "\n",
        "torch.__version__"
      ],
      "metadata": {
        "colab": {
          "base_uri": "https://localhost:8080/",
          "height": 56
        },
        "id": "ISmLU_UfazxI",
        "outputId": "f61e68e5-31fc-4031-930a-7134a7f01135"
      },
      "execution_count": 35,
      "outputs": [
        {
          "output_type": "execute_result",
          "data": {
            "text/plain": [
              "'2.6.0+cu124'"
            ],
            "application/vnd.google.colaboratory.intrinsic+json": {
              "type": "string"
            }
          },
          "metadata": {},
          "execution_count": 35
        }
      ]
    },
    {
      "cell_type": "code",
      "source": [
        "#create device agnostic code\n",
        "device = \"cuda\" if torch.cuda.is_available() else \"cpu\"\n",
        "device"
      ],
      "metadata": {
        "colab": {
          "base_uri": "https://localhost:8080/",
          "height": 56
        },
        "id": "z7Hqa7QRbXmN",
        "outputId": "e7a82e57-f21a-4884-c12e-d6d86c40670b"
      },
      "execution_count": 36,
      "outputs": [
        {
          "output_type": "execute_result",
          "data": {
            "text/plain": [
              "'cpu'"
            ],
            "application/vnd.google.colaboratory.intrinsic+json": {
              "type": "string"
            }
          },
          "metadata": {},
          "execution_count": 36
        }
      ]
    },
    {
      "cell_type": "markdown",
      "source": [
        "## 6.1 Data\n"
      ],
      "metadata": {
        "id": "WvvvPj_lckSc"
      }
    },
    {
      "cell_type": "code",
      "source": [
        "weight = 0.7\n",
        "bias = 0.3\n",
        "\n",
        "#create range values\n",
        "start = 0\n",
        "end = 1\n",
        "step = 0.02\n",
        "\n",
        "#create X and y for features and labels\n",
        "X = torch.arange(start, end, step).unsqueeze(dim=1) # without unsqueeze errors will pop up\n",
        "y = weight * X + bias\n",
        "\n",
        "X[:10], y[:10]"
      ],
      "metadata": {
        "colab": {
          "base_uri": "https://localhost:8080/"
        },
        "id": "gNBJ_hhlcBqE",
        "outputId": "c30b95e3-ca1d-4eb7-e9d6-8d6f2e30b20e"
      },
      "execution_count": 37,
      "outputs": [
        {
          "output_type": "execute_result",
          "data": {
            "text/plain": [
              "(tensor([[0.0000],\n",
              "         [0.0200],\n",
              "         [0.0400],\n",
              "         [0.0600],\n",
              "         [0.0800],\n",
              "         [0.1000],\n",
              "         [0.1200],\n",
              "         [0.1400],\n",
              "         [0.1600],\n",
              "         [0.1800]]),\n",
              " tensor([[0.3000],\n",
              "         [0.3140],\n",
              "         [0.3280],\n",
              "         [0.3420],\n",
              "         [0.3560],\n",
              "         [0.3700],\n",
              "         [0.3840],\n",
              "         [0.3980],\n",
              "         [0.4120],\n",
              "         [0.4260]]))"
            ]
          },
          "metadata": {},
          "execution_count": 37
        }
      ]
    },
    {
      "cell_type": "code",
      "source": [
        "#split data\n",
        "train_split = int(0.8 * len(X))\n",
        "X_train, y_train = X[:train_split], y[:train_split]\n",
        "X_test, y_test = X[train_split:], y[train_split:]\n",
        "len(X_train), len(y_train), len(X_test), len(y_test)"
      ],
      "metadata": {
        "colab": {
          "base_uri": "https://localhost:8080/"
        },
        "id": "0T1mO7yFdh3X",
        "outputId": "cc400957-604b-49a3-8a12-45c5e2b2b278"
      },
      "execution_count": 38,
      "outputs": [
        {
          "output_type": "execute_result",
          "data": {
            "text/plain": [
              "(40, 40, 10, 10)"
            ]
          },
          "metadata": {},
          "execution_count": 38
        }
      ]
    },
    {
      "cell_type": "code",
      "source": [
        "def plot_predictions(train_data=X_train,\n",
        "                      train_labels=y_train,\n",
        "                      test_data=X_test,\n",
        "                      test_labels=y_test,\n",
        "                      predictions=None):\n",
        "  \"\"\"\n",
        "  plots training data, test data and compares predictions\n",
        "  \"\"\"\n",
        "  plt.figure(figsize=(10,7))\n",
        "\n",
        "  plt.scatter(train_data, train_labels, c=\"b\", s=4, label=\"training data\")\n",
        "  plt.scatter(test_data, test_labels, c=\"g\", s=4, label=\"testing data\")\n",
        "\n",
        "  #are there any predictions?\n",
        "  if predictions is not None:\n",
        "    #plot predictions if they exist\n",
        "    plt.scatter(test_data, predictions, c=\"r\", s=4, label=\"predictions\") # to know how good the model is we compare the predictions to y_test (which is the test set)\n",
        "\n",
        "  plt.legend(prop={\"size\":14})"
      ],
      "metadata": {
        "id": "08wm0WU9ebda"
      },
      "execution_count": 39,
      "outputs": []
    },
    {
      "cell_type": "code",
      "source": [
        "#plot the data using the previously defined function\n",
        "plot_predictions(X_train, y_train, X_test, y_test)"
      ],
      "metadata": {
        "colab": {
          "base_uri": "https://localhost:8080/",
          "height": 620
        },
        "id": "zcrm-Nurd7si",
        "outputId": "71b00ebc-0307-4865-cc12-57f7ff9d85dd"
      },
      "execution_count": 40,
      "outputs": [
        {
          "output_type": "display_data",
          "data": {
            "text/plain": [
              "<Figure size 1000x700 with 1 Axes>"
            ],
            "image/png": "[encoded data removed]"
          },
          "metadata": {}
        }
      ]
    },
    {
      "cell_type": "markdown",
      "source": [
        "## 6.2 Building a pytorch linear model (straight line)"
      ],
      "metadata": {
        "id": "krxzN3oyev95"
      }
    },
    {
      "cell_type": "code",
      "source": [
        "class LinearRegressionModelV2(nn.Module):\n",
        "  def __init__(self):\n",
        "    super().__init__()\n",
        "    #linear layer = aka linear transform\n",
        "    self.linear_layer = nn.Linear(in_features=1, #y = ax + b\n",
        "                                  out_features=1) # input one feature x to output one feature y\n",
        "\n",
        "  def forward(self, x: torch.Tensor) -> torch.Tensor:\n",
        "    return self.linear_layer(x)\n"
      ],
      "metadata": {
        "id": "EslVd23LeLsI"
      },
      "execution_count": 41,
      "outputs": []
    },
    {
      "cell_type": "code",
      "source": [
        "#torch.manual_seed(42) # I don't know why when I put this random seed the loss doesn't change, it stays the same\n",
        "model_1 = LinearRegressionModelV2()\n",
        "model_1, model_1.state_dict()"
      ],
      "metadata": {
        "colab": {
          "base_uri": "https://localhost:8080/"
        },
        "id": "SoWru5DUuD1A",
        "outputId": "8fc65718-c32d-4557-dd03-389e877532eb"
      },
      "execution_count": 42,
      "outputs": [
        {
          "output_type": "execute_result",
          "data": {
            "text/plain": [
              "(LinearRegressionModelV2(\n",
              "   (linear_layer): Linear(in_features=1, out_features=1, bias=True)\n",
              " ),\n",
              " OrderedDict([('linear_layer.weight', tensor([[0.8815]])),\n",
              "              ('linear_layer.bias', tensor([-0.7336]))]))"
            ]
          },
          "metadata": {},
          "execution_count": 42
        }
      ]
    },
    {
      "cell_type": "code",
      "source": [
        "X_train[:5], y_train[:5] # show the first 5 elements"
      ],
      "metadata": {
        "colab": {
          "base_uri": "https://localhost:8080/"
        },
        "id": "n90hNgXzffi-",
        "outputId": "14a0bae6-e737-4dbe-91d0-c64aede7d361"
      },
      "execution_count": 43,
      "outputs": [
        {
          "output_type": "execute_result",
          "data": {
            "text/plain": [
              "(tensor([[0.0000],\n",
              "         [0.0200],\n",
              "         [0.0400],\n",
              "         [0.0600],\n",
              "         [0.0800]]),\n",
              " tensor([[0.3000],\n",
              "         [0.3140],\n",
              "         [0.3280],\n",
              "         [0.3420],\n",
              "         [0.3560]]))"
            ]
          },
          "metadata": {},
          "execution_count": 43
        }
      ]
    },
    {
      "cell_type": "code",
      "source": [
        "# check the model current device\n",
        "next(model_1.parameters()).device"
      ],
      "metadata": {
        "colab": {
          "base_uri": "https://localhost:8080/"
        },
        "id": "zTxHFxd4npJM",
        "outputId": "b70299b9-fac9-4fdd-eb9d-7d5914062380"
      },
      "execution_count": 44,
      "outputs": [
        {
          "output_type": "execute_result",
          "data": {
            "text/plain": [
              "device(type='cpu')"
            ]
          },
          "metadata": {},
          "execution_count": 44
        }
      ]
    },
    {
      "cell_type": "code",
      "source": [
        "# set the model to use the target device\n",
        "model_1.to(device)\n",
        "next(model_1.parameters()).device"
      ],
      "metadata": {
        "colab": {
          "base_uri": "https://localhost:8080/"
        },
        "id": "czI16IRrnyDx",
        "outputId": "00f28fa4-20e6-419d-ae66-05974be15e8c"
      },
      "execution_count": 45,
      "outputs": [
        {
          "output_type": "execute_result",
          "data": {
            "text/plain": [
              "device(type='cpu')"
            ]
          },
          "metadata": {},
          "execution_count": 45
        }
      ]
    },
    {
      "cell_type": "code",
      "source": [
        "model_1.state_dict()"
      ],
      "metadata": {
        "colab": {
          "base_uri": "https://localhost:8080/"
        },
        "id": "xk8Rk11GfvlG",
        "outputId": "8665e2c2-ed7a-44b5-f987-8a9e2e8c9cce"
      },
      "execution_count": 46,
      "outputs": [
        {
          "output_type": "execute_result",
          "data": {
            "text/plain": [
              "OrderedDict([('linear_layer.weight', tensor([[0.8815]])),\n",
              "             ('linear_layer.bias', tensor([-0.7336]))])"
            ]
          },
          "metadata": {},
          "execution_count": 46
        }
      ]
    },
    {
      "cell_type": "markdown",
      "source": [
        "## 6.3 Training\n",
        "* loss function\n",
        "* optimizer\n",
        "* training loop\n",
        "* testing loop\n"
      ],
      "metadata": {
        "id": "YWwvsWlhoNxK"
      }
    },
    {
      "cell_type": "code",
      "source": [
        "loss_fn = nn.L1Loss()\n",
        "optimizer = torch.optim.SGD(params=model_1.parameters(),\n",
        "                            lr=0.01)"
      ],
      "metadata": {
        "id": "rfPp7C9goEUF"
      },
      "execution_count": 47,
      "outputs": []
    },
    {
      "cell_type": "code",
      "source": [
        "torch.manual_seed(42)\n",
        "\n",
        "epochs = 200\n",
        "\n",
        "#Track different vlues\n",
        "epoch_count = []\n",
        "loss_values = []\n",
        "test_loss_values = []\n",
        "\n",
        "#put the data on the target device\n",
        "X_train = X_train.to(device)\n",
        "y_train = y_train.to(device)\n",
        "X_test = X_test.to(device)\n",
        "y_test = y_test.to(device)\n",
        "\n",
        "for epoch in range(epochs):\n",
        "  model_1.train()\n",
        "\n",
        "  y_pred = model_1(X_train)\n",
        "\n",
        "  loss = loss_fn(y_pred, y_train)\n",
        "\n",
        "  optimizer.zero_grad()\n",
        "\n",
        "  loss.backward()\n",
        "\n",
        "  optimizer.step()\n",
        "\n",
        "  #Testing\n",
        "  model_1.eval()\n",
        "  with torch.inference_mode():\n",
        "    test_preds = model_1(X_test)\n",
        "    test_loss = loss_fn(test_preds, y_test)\n",
        "\n",
        "  if epoch % 10 == 0:\n",
        "    epoch_count.append(epoch)\n",
        "    loss_values.append(loss)\n",
        "    test_loss_values.append(test_loss)\n",
        "    print(f\"Epoch: {epoch} | Loss: {loss} | Test loss: {test_loss}\")\n",
        "    print(model_1.state_dict())\n",
        "    print('---------------------------------------------------------')\n",
        ""
      ],
      "metadata": {
        "colab": {
          "base_uri": "https://localhost:8080/"
        },
        "id": "5ewRMNtIovF8",
        "outputId": "8dcf90d6-84ee-43a8-eff5-45d427672193"
      },
      "execution_count": 48,
      "outputs": [
        {
          "output_type": "stream",
          "name": "stdout",
          "text": [
            "Epoch: 0 | Loss: 0.9628263711929321 | Test loss: 0.858583927154541\n",
            "OrderedDict([('linear_layer.weight', tensor([[0.8854]])), ('linear_layer.bias', tensor([-0.7236]))])\n",
            "---------------------------------------------------------\n",
            "Epoch: 10 | Loss: 0.8476165533065796 | Test loss: 0.7238741517066956\n",
            "OrderedDict([('linear_layer.weight', tensor([[0.9244]])), ('linear_layer.bias', tensor([-0.6236]))])\n",
            "---------------------------------------------------------\n",
            "Epoch: 20 | Loss: 0.732406735420227 | Test loss: 0.5891643166542053\n",
            "OrderedDict([('linear_layer.weight', tensor([[0.9634]])), ('linear_layer.bias', tensor([-0.5236]))])\n",
            "---------------------------------------------------------\n",
            "Epoch: 30 | Loss: 0.6171968579292297 | Test loss: 0.4544544219970703\n",
            "OrderedDict([('linear_layer.weight', tensor([[1.0024]])), ('linear_layer.bias', tensor([-0.4236]))])\n",
            "---------------------------------------------------------\n",
            "Epoch: 40 | Loss: 0.5019866824150085 | Test loss: 0.3197440505027771\n",
            "OrderedDict([('linear_layer.weight', tensor([[1.0414]])), ('linear_layer.bias', tensor([-0.3236]))])\n",
            "---------------------------------------------------------\n",
            "Epoch: 50 | Loss: 0.3867765963077545 | Test loss: 0.1850336492061615\n",
            "OrderedDict([('linear_layer.weight', tensor([[1.0804]])), ('linear_layer.bias', tensor([-0.2236]))])\n",
            "---------------------------------------------------------\n",
            "Epoch: 60 | Loss: 0.2715663015842438 | Test loss: 0.05032316967844963\n",
            "OrderedDict([('linear_layer.weight', tensor([[1.1194]])), ('linear_layer.bias', tensor([-0.1236]))])\n",
            "---------------------------------------------------------\n",
            "Epoch: 70 | Loss: 0.1586626023054123 | Test loss: 0.08102552592754364\n",
            "OrderedDict([('linear_layer.weight', tensor([[1.1569]])), ('linear_layer.bias', tensor([-0.0256]))])\n",
            "---------------------------------------------------------\n",
            "Epoch: 80 | Loss: 0.11361626535654068 | Test loss: 0.15223388373851776\n",
            "OrderedDict([('linear_layer.weight', tensor([[1.1684]])), ('linear_layer.bias', tensor([0.0354]))])\n",
            "---------------------------------------------------------\n",
            "Epoch: 90 | Loss: 0.10002555698156357 | Test loss: 0.18380694091320038\n",
            "OrderedDict([('linear_layer.weight', tensor([[1.1645]])), ('linear_layer.bias', tensor([0.0704]))])\n",
            "---------------------------------------------------------\n",
            "Epoch: 100 | Loss: 0.0938224270939827 | Test loss: 0.19651523232460022\n",
            "OrderedDict([('linear_layer.weight', tensor([[1.1541]])), ('linear_layer.bias', tensor([0.0924]))])\n",
            "---------------------------------------------------------\n",
            "Epoch: 110 | Loss: 0.08965343236923218 | Test loss: 0.19862690567970276\n",
            "OrderedDict([('linear_layer.weight', tensor([[1.1402]])), ('linear_layer.bias', tensor([0.1069]))])\n",
            "---------------------------------------------------------\n",
            "Epoch: 120 | Loss: 0.08612529933452606 | Test loss: 0.19447574019432068\n",
            "OrderedDict([('linear_layer.weight', tensor([[1.1243]])), ('linear_layer.bias', tensor([0.1169]))])\n",
            "---------------------------------------------------------\n",
            "Epoch: 130 | Loss: 0.08259718865156174 | Test loss: 0.19032466411590576\n",
            "OrderedDict([('linear_layer.weight', tensor([[1.1084]])), ('linear_layer.bias', tensor([0.1269]))])\n",
            "---------------------------------------------------------\n",
            "Epoch: 140 | Loss: 0.07911241054534912 | Test loss: 0.1841130256652832\n",
            "OrderedDict([('linear_layer.weight', tensor([[1.0918]])), ('linear_layer.bias', tensor([0.1354]))])\n",
            "---------------------------------------------------------\n",
            "Epoch: 150 | Loss: 0.07567393034696579 | Test loss: 0.1765277087688446\n",
            "OrderedDict([('linear_layer.weight', tensor([[1.0749]])), ('linear_layer.bias', tensor([0.1429]))])\n",
            "---------------------------------------------------------\n",
            "Epoch: 160 | Loss: 0.0722455382347107 | Test loss: 0.1682555228471756\n",
            "OrderedDict([('linear_layer.weight', tensor([[1.0577]])), ('linear_layer.bias', tensor([0.1499]))])\n",
            "---------------------------------------------------------\n",
            "Epoch: 170 | Loss: 0.06880896538496017 | Test loss: 0.15998336672782898\n",
            "OrderedDict([('linear_layer.weight', tensor([[1.0406]])), ('linear_layer.bias', tensor([0.1569]))])\n",
            "---------------------------------------------------------\n",
            "Epoch: 180 | Loss: 0.06537213176488876 | Test loss: 0.1523980349302292\n",
            "OrderedDict([('linear_layer.weight', tensor([[1.0236]])), ('linear_layer.bias', tensor([0.1644]))])\n",
            "---------------------------------------------------------\n",
            "Epoch: 190 | Loss: 0.06194373965263367 | Test loss: 0.14412586390972137\n",
            "OrderedDict([('linear_layer.weight', tensor([[1.0065]])), ('linear_layer.bias', tensor([0.1714]))])\n",
            "---------------------------------------------------------\n"
          ]
        }
      ]
    },
    {
      "cell_type": "code",
      "source": [
        "#Compare the previous training output to the original weight and bias\n",
        "weight, bias"
      ],
      "metadata": {
        "colab": {
          "base_uri": "https://localhost:8080/"
        },
        "id": "FkiotRZgtv28",
        "outputId": "535d0445-a2d3-4de6-b3f3-f2121fb2c175"
      },
      "execution_count": 49,
      "outputs": [
        {
          "output_type": "execute_result",
          "data": {
            "text/plain": [
              "(0.7, 0.3)"
            ]
          },
          "metadata": {},
          "execution_count": 49
        }
      ]
    },
    {
      "cell_type": "code",
      "source": [
        "#plot the loss curves\n",
        "plt.plot(epoch_count, torch.tensor(loss_values).numpy(), label= \"train loss\")\n",
        "plt.plot(epoch_count, torch.tensor(test_loss_values).numpy(), label= \"test loss\")\n",
        "plt.title(\"Training and testing loss curves\")\n",
        "plt.ylabel(\"Loss\")\n",
        "plt.xlabel(\"Epochs\")\n",
        "plt.legend()"
      ],
      "metadata": {
        "colab": {
          "base_uri": "https://localhost:8080/",
          "height": 509
        },
        "id": "BPpnFjSVwe9I",
        "outputId": "6ce77fdd-6361-436a-b893-40dc67b616f5"
      },
      "execution_count": 50,
      "outputs": [
        {
          "output_type": "execute_result",
          "data": {
            "text/plain": [
              "<matplotlib.legend.Legend at 0x7dfb3c349290>"
            ]
          },
          "metadata": {},
          "execution_count": 50
        },
        {
          "output_type": "display_data",
          "data": {
            "text/plain": [
              "<Figure size 640x480 with 1 Axes>"
            ],
            "image/png": "[encoded data removed]"
          },
          "metadata": {}
        }
      ]
    },
    {
      "cell_type": "markdown",
      "source": [
        "## 6.4 make predictions"
      ],
      "metadata": {
        "id": "QmVje2D-yiZr"
      }
    },
    {
      "cell_type": "code",
      "source": [
        "plot_predictions(predictions=y_preds)"
      ],
      "metadata": {
        "colab": {
          "base_uri": "https://localhost:8080/",
          "height": 620
        },
        "id": "U-EXGCZ2ymL8",
        "outputId": "bb0743e0-f22c-4542-c4a1-a5919a329da9"
      },
      "execution_count": 51,
      "outputs": [
        {
          "output_type": "display_data",
          "data": {
            "text/plain": [
              "<Figure size 1000x700 with 1 Axes>"
            ],
            "image/png": "[encoded data removed]"
          },
          "metadata": {}
        }
      ]
    },
    {
      "cell_type": "code",
      "source": [
        "with torch.inference_mode():\n",
        "  y_preds_new = model_1(X_test)\n",
        "\n",
        "plot_predictions(predictions=y_preds_new)"
      ],
      "metadata": {
        "colab": {
          "base_uri": "https://localhost:8080/",
          "height": 620
        },
        "id": "G2RYPWf1zCOC",
        "outputId": "21ad24ba-989a-4e5f-f95c-2ae3332a2601"
      },
      "execution_count": 52,
      "outputs": [
        {
          "output_type": "display_data",
          "data": {
            "text/plain": [
              "<Figure size 1000x700 with 1 Axes>"
            ],
            "image/png": "[encoded data removed]"
          },
          "metadata": {}
        }
      ]
    },
    {
      "cell_type": "markdown",
      "source": [
        "## 6.5 saving and loading a trained model"
      ],
      "metadata": {
        "id": "2HJBgYWqzlRu"
      }
    },
    {
      "cell_type": "code",
      "source": [
        "from pathlib import Path\n",
        "\n",
        "# 1. create a model directory # insead of creating a folder manually\n",
        "MODEL_PATH = Path (\"models\")\n",
        "MODEL_PATH.mkdir(parents=True, exist_ok=True)\n",
        "\n",
        "# 2. create model save path\n",
        "MODEL_NAME = \"01_pytorch_workflow_model_1.pth\"\n",
        "MODEL_SAVE_PATH = MODEL_PATH / MODEL_NAME\n",
        "\n",
        "#3. save the model state dictionary\n",
        "print(f'Saving the model to: {MODEL_SAVE_PATH}')\n",
        "torch.save(obj=model_1.state_dict(),\n",
        "           f=MODEL_SAVE_PATH)"
      ],
      "metadata": {
        "colab": {
          "base_uri": "https://localhost:8080/"
        },
        "id": "ONjthTGlzHYL",
        "outputId": "303ce77c-76a8-4f77-f420-381f6d871234"
      },
      "execution_count": 53,
      "outputs": [
        {
          "output_type": "stream",
          "name": "stdout",
          "text": [
            "Saving the model to: models/01_pytorch_workflow_model_1.pth\n"
          ]
        }
      ]
    },
    {
      "cell_type": "code",
      "source": [
        "#check the files that exsist in the models folder\n",
        "!ls -l models"
      ],
      "metadata": {
        "colab": {
          "base_uri": "https://localhost:8080/"
        },
        "id": "S443uXN-z3uz",
        "outputId": "6a9e3f20-d127-4c58-817c-4732a9873c92"
      },
      "execution_count": 54,
      "outputs": [
        {
          "output_type": "stream",
          "name": "stdout",
          "text": [
            "total 8\n",
            "-rw-r--r-- 1 root root 1744 Jul 31 22:18 01_pytorch_workflow_model_1.pth\n",
            "-rw-r--r-- 1 root root 1668 Jul 31 22:18 01_pytorch_workflow_model.pth\n"
          ]
        }
      ]
    },
    {
      "cell_type": "code",
      "source": [
        "#loading the model\n",
        "#check the saved model\n",
        "model_1.state_dict()"
      ],
      "metadata": {
        "colab": {
          "base_uri": "https://localhost:8080/"
        },
        "id": "LKlWhLxGz7LH",
        "outputId": "427e7815-28c0-4144-d50d-52b421c91f28"
      },
      "execution_count": 55,
      "outputs": [
        {
          "output_type": "execute_result",
          "data": {
            "text/plain": [
              "OrderedDict([('linear_layer.weight', tensor([[0.9911]])),\n",
              "             ('linear_layer.bias', tensor([0.1779]))])"
            ]
          },
          "metadata": {},
          "execution_count": 55
        }
      ]
    },
    {
      "cell_type": "code",
      "source": [
        "#create an instance of our model class\n",
        "loaded_model_1 = LinearRegressionModelV2()\n",
        "\n",
        "#notice that the parameters values are random and don't match the values in the previous cell\n",
        "loaded_model_1.state_dict()"
      ],
      "metadata": {
        "colab": {
          "base_uri": "https://localhost:8080/"
        },
        "id": "Kyrh45d_0CpO",
        "outputId": "1357b6d1-0cc5-4726-a5f0-ae7db62e1d39"
      },
      "execution_count": 56,
      "outputs": [
        {
          "output_type": "execute_result",
          "data": {
            "text/plain": [
              "OrderedDict([('linear_layer.weight', tensor([[0.7645]])),\n",
              "             ('linear_layer.bias', tensor([0.8300]))])"
            ]
          },
          "metadata": {},
          "execution_count": 56
        }
      ]
    },
    {
      "cell_type": "code",
      "source": [
        "#load the model\n",
        "loaded_model_1.load_state_dict(torch.load(f=MODEL_SAVE_PATH))"
      ],
      "metadata": {
        "colab": {
          "base_uri": "https://localhost:8080/"
        },
        "id": "feZ3C-rg0QQq",
        "outputId": "e0287506-cfa6-4cab-bf08-5aa000b0ea17"
      },
      "execution_count": 57,
      "outputs": [
        {
          "output_type": "execute_result",
          "data": {
            "text/plain": [
              "<All keys matched successfully>"
            ]
          },
          "metadata": {},
          "execution_count": 57
        }
      ]
    },
    {
      "cell_type": "code",
      "source": [
        "#put the loaded model to device\n",
        "loaded_model_1.to(device)"
      ],
      "metadata": {
        "colab": {
          "base_uri": "https://localhost:8080/"
        },
        "id": "y3nmyPSB2cL_",
        "outputId": "35a35b7c-afb8-4c4a-dde1-62757160ba20"
      },
      "execution_count": 58,
      "outputs": [
        {
          "output_type": "execute_result",
          "data": {
            "text/plain": [
              "LinearRegressionModelV2(\n",
              "  (linear_layer): Linear(in_features=1, out_features=1, bias=True)\n",
              ")"
            ]
          },
          "metadata": {},
          "execution_count": 58
        }
      ]
    },
    {
      "cell_type": "code",
      "source": [
        "#check if the parameters are on the right device\n",
        "next(loaded_model_1.parameters()).device"
      ],
      "metadata": {
        "colab": {
          "base_uri": "https://localhost:8080/"
        },
        "id": "X7NYaoiw2pr4",
        "outputId": "92782d0c-df1e-4e41-96bc-9db4f6c7f84b"
      },
      "execution_count": 59,
      "outputs": [
        {
          "output_type": "execute_result",
          "data": {
            "text/plain": [
              "device(type='cpu')"
            ]
          },
          "metadata": {},
          "execution_count": 59
        }
      ]
    },
    {
      "cell_type": "code",
      "source": [
        "#now notice how the parameter values of the loaded model are the same as the values of the saved model\n",
        "loaded_model_1.state_dict()"
      ],
      "metadata": {
        "colab": {
          "base_uri": "https://localhost:8080/"
        },
        "id": "ANRa2zDo0fqF",
        "outputId": "b822f037-1167-43a2-d583-4f17cadd1f2b"
      },
      "execution_count": 60,
      "outputs": [
        {
          "output_type": "execute_result",
          "data": {
            "text/plain": [
              "OrderedDict([('linear_layer.weight', tensor([[0.9911]])),\n",
              "             ('linear_layer.bias', tensor([0.1779]))])"
            ]
          },
          "metadata": {},
          "execution_count": 60
        }
      ]
    },
    {
      "cell_type": "code",
      "source": [
        "# Make some predictions with the loaded model\n",
        "# Evaluate the model\n",
        "loaded_model_1.eval()\n",
        "with torch.inference_mode():\n",
        "  loaded_model_preds = loaded_model_1(X_test)\n",
        "\n",
        "loaded_model_preds"
      ],
      "metadata": {
        "colab": {
          "base_uri": "https://localhost:8080/"
        },
        "id": "hLdOfZsR0ins",
        "outputId": "55b1e06f-d978-46fb-9f6b-f87970da3e70"
      },
      "execution_count": 61,
      "outputs": [
        {
          "output_type": "execute_result",
          "data": {
            "text/plain": [
              "tensor([[0.9708],\n",
              "        [0.9906],\n",
              "        [1.0104],\n",
              "        [1.0302],\n",
              "        [1.0500],\n",
              "        [1.0699],\n",
              "        [1.0897],\n",
              "        [1.1095],\n",
              "        [1.1293],\n",
              "        [1.1492]])"
            ]
          },
          "metadata": {},
          "execution_count": 61
        }
      ]
    },
    {
      "cell_type": "code",
      "source": [
        "# make some predictions with the original trained model\n",
        "model_1.eval()\n",
        "with torch.inference_mode():\n",
        "  y_preds = model_1(X_test)\n",
        "\n",
        "loaded_model_preds"
      ],
      "metadata": {
        "colab": {
          "base_uri": "https://localhost:8080/"
        },
        "id": "dN34EAQ90nEg",
        "outputId": "e4bfe69b-4908-4689-d81f-d1fc05a2849a"
      },
      "execution_count": 62,
      "outputs": [
        {
          "output_type": "execute_result",
          "data": {
            "text/plain": [
              "tensor([[0.9708],\n",
              "        [0.9906],\n",
              "        [1.0104],\n",
              "        [1.0302],\n",
              "        [1.0500],\n",
              "        [1.0699],\n",
              "        [1.0897],\n",
              "        [1.1095],\n",
              "        [1.1293],\n",
              "        [1.1492]])"
            ]
          },
          "metadata": {},
          "execution_count": 62
        }
      ]
    },
    {
      "cell_type": "code",
      "source": [
        "# compare loaded model preds with the orignal model preds\n",
        "loaded_model_preds == y_preds"
      ],
      "metadata": {
        "colab": {
          "base_uri": "https://localhost:8080/"
        },
        "id": "lqldAzCU0p9W",
        "outputId": "a3f3e732-8189-42c5-d95e-b14abd859c02"
      },
      "execution_count": 63,
      "outputs": [
        {
          "output_type": "execute_result",
          "data": {
            "text/plain": [
              "tensor([[True],\n",
              "        [True],\n",
              "        [True],\n",
              "        [True],\n",
              "        [True],\n",
              "        [True],\n",
              "        [True],\n",
              "        [True],\n",
              "        [True],\n",
              "        [True]])"
            ]
          },
          "metadata": {},
          "execution_count": 63
        }
      ]
    },
    {
      "cell_type": "code",
      "source": [],
      "metadata": {
        "id": "NvpTltKFkHv4"
      },
      "execution_count": 63,
      "outputs": []
    }
  ]
}