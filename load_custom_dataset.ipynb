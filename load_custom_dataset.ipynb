{
 "cells": [
  {
   "cell_type": "code",
   "execution_count": null,
   "metadata": {},
   "outputs": [],
   "source": [
    "# pytorch cnn tutorial \n",
    "#https://pytorch.org/tutorials/beginner/blitz/cifar10_tutorial.html \n",
    "\n",
    "#https://www.youtube.com/watch?v=pDdP0TFzsoQ"
   ]
  },
  {
   "cell_type": "code",
   "execution_count": 10,
   "metadata": {},
   "outputs": [],
   "source": [
    "import torch \n",
    "import torch.nn as nn\n",
    "import torch.optim as optim\n",
    "import torchvision \n",
    "import torchvision.transforms as transforms\n",
    "\n",
    "import os \n",
    "import pandas as pd \n",
    "from torch.utils.data import Dataset, DataLoader\n",
    "from skimage import io \n",
    "\n",
    "#set device \n",
    "device = torch.device('cuda' if torch.cuda.is_available() else 'cpu')\n",
    "\n",
    "#hyperparameters\n",
    "in_channel = 3\n",
    "num_classes = 10\n",
    "learning_rate = 1e-3\n",
    "batch_size = 2\n",
    "num_epoch = 10"
   ]
  },
  {
   "cell_type": "markdown",
   "metadata": {},
   "source": [
    "# 1. Load my custom  dataset of cats and dogs \n"
   ]
  },
  {
   "cell_type": "code",
   "execution_count": 21,
   "metadata": {},
   "outputs": [],
   "source": [
    "class CatsAndDogsDataset(Dataset):\n",
    "    def __init__(self, csv_file, root_dir, transform=None):\n",
    "        self.annotations = pd.read_csv(csv_file)\n",
    "        self.root_dir = root_dir\n",
    "        self.transform = transform \n",
    "    \n",
    "    def __len__(self):\n",
    "        return len(self.annotations) \n",
    "\n",
    "    def __getitem__(self, index):\n",
    "        img_path = os.path.join(self.root_dir, self.annotations.iloc[index, 0])\n",
    "        image = io.imread(img_path)\n",
    "        y_label = torch.tensor(int(self.annotations.iloc[index,1]))\n",
    "\n",
    "        if self.transform:\n",
    "            image = self.transform(image)\n",
    "            \n",
    "        return(image, y_label)\n",
    "    \n",
    "#load data     \n",
    "dataset = CatsAndDogsDataset(csv_file= \"./data/cats_dogs/cats_dogs.csv\", root_dir=\"./data/cats_dogs/cats_dogs_resized\", transform= transforms.ToTensor())\n",
    "\n",
    "train_set, test_set = torch.utils.data.random_split(dataset, [8, 2])\n",
    "\n",
    "train_loader = DataLoader(dataset=train_set, batch_size= batch_size, shuffle =True)\n",
    "test_loader = DataLoader(dataset=test_set, batch_size= batch_size, shuffle =True)\n"
   ]
  },
  {
   "cell_type": "code",
   "execution_count": 23,
   "metadata": {},
   "outputs": [
    {
     "name": "stdout",
     "output_type": "stream",
     "text": [
      "cost at epoch 0 is 6.141992449760437\n",
      "cost at epoch 1 is 3.591049313545227\n",
      "cost at epoch 2 is 1.8197463154792786\n",
      "cost at epoch 3 is 0.7450966238975525\n",
      "cost at epoch 4 is 0.24358582770219073\n",
      "cost at epoch 5 is 0.2635478121228516\n",
      "cost at epoch 6 is 0.09788583242334425\n",
      "cost at epoch 7 is 0.06618897896260023\n",
      "cost at epoch 8 is 1.2081416198052466\n",
      "cost at epoch 9 is 0.035605399461928755\n",
      "Checking accuracy on Traiining set\n",
      "got 8 / 8 with acurracy 100.0\n",
      "Checking accuracy on testing set\n",
      "got 1 / 2 with acurracy 50.0\n"
     ]
    }
   ],
   "source": [
    "#model \n",
    "model = torchvision.models.googlenet(pretrained= True)\n",
    "model.to(device)\n",
    "\n",
    "#loss and optimizer \n",
    "criterion = nn.CrossEntropyLoss()\n",
    "optimizer = optim.Adam(model.parameters(), lr = learning_rate)\n",
    "\n",
    "#train network \n",
    "for epoch in range(num_epoch):\n",
    "    losses = []\n",
    "\n",
    "    for batch_idx, (data, targets) in enumerate(train_loader):\n",
    "        data = data.to(device = device)\n",
    "        targets = targets.to(device = device)\n",
    "\n",
    "        #forward\n",
    "        scores = model(data)\n",
    "        loss = criterion(scores, targets)\n",
    "\n",
    "        losses.append(loss.item())\n",
    "\n",
    "        #backward\n",
    "        optimizer.zero_grad()\n",
    "        loss.backward()\n",
    "\n",
    "        #gradient descent or adam step \n",
    "        optimizer.step()\n",
    "\n",
    "    print(f'cost at epoch {epoch} is {sum(losses)/len(losses)}')\n",
    "\n",
    "#check accuracy on training to see how good our model is \n",
    "def check_accuracy(loader, model):\n",
    "    num_correct = 0\n",
    "    num_samples = 0\n",
    "    model.eval()\n",
    "\n",
    "    with torch.no_grad():\n",
    "        for x, y, in loader:\n",
    "            x = x.to(device = device)\n",
    "            y = y.to(device = device)\n",
    "\n",
    "            scores = model(x)\n",
    "            _, predictions = scores.max(1)\n",
    "            num_correct += (predictions ==y).sum()\n",
    "            num_samples += predictions.size(0)\n",
    "        \n",
    "        print(f'got {num_correct} / {num_samples} with acurracy {float(num_correct)/float(num_samples)* 100}')\n",
    "\n",
    "    model.train()\n",
    "\n",
    "print(\"Checking accuracy on Traiining set\")\n",
    "check_accuracy(train_loader, model)\n",
    "print(\"Checking accuracy on testing set\")\n",
    "check_accuracy(test_loader, model)\n",
    "\n"
   ]
  }
 ],
 "metadata": {
  "kernelspec": {
   "display_name": "tps",
   "language": "python",
   "name": "python3"
  },
  "language_info": {
   "codemirror_mode": {
    "name": "ipython",
    "version": 3
   },
   "file_extension": ".py",
   "mimetype": "text/x-python",
   "name": "python",
   "nbconvert_exporter": "python",
   "pygments_lexer": "ipython3",
   "version": "3.9.18"
  }
 },
 "nbformat": 4,
 "nbformat_minor": 2
}
